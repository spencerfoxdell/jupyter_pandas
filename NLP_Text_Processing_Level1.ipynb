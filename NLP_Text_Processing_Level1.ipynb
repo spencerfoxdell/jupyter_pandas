{
 "cells": [
  {
   "cell_type": "code",
   "execution_count": 1,
   "id": "9c991de6",
   "metadata": {},
   "outputs": [
    {
     "name": "stdout",
     "output_type": "stream",
     "text": [
      "showing info https://raw.githubusercontent.com/nltk/nltk_data/gh-pages/index.xml\n"
     ]
    },
    {
     "data": {
      "text/plain": [
       "True"
      ]
     },
     "execution_count": 1,
     "metadata": {},
     "output_type": "execute_result"
    }
   ],
   "source": [
    "import nltk\n",
    "nltk.download()"
   ]
  },
  {
   "cell_type": "code",
   "execution_count": 20,
   "id": "16e56bc4",
   "metadata": {},
   "outputs": [],
   "source": [
    "paragraph = \"The 26-year-old allowed two hits over seven efficient innings and the Braves completed a three-game sweep of Pittsburgh by drilling the sloppy Pirates 14-2 on Wednesday.Wright needed just 73 pitches to record 21 outs but missed a chance to pitch into the eighth when his teammates erupted for seven runs in the top of the inning, highlighted by Matt Olsons grand slam that bounced into the Allegheny River.I’ve never finished a game in the big leagues, so I would have loved to have gotten that, Wright said. But runs are cool too, especially grand slams.Wright and Atlanta manager Brian Snitker chatted briefly about letting him continue. Once Olsons 27th home run landed and the Pirates signaled a pitching change that made an already long inning even longer, Wright knew his day was over. I was being a little selfish (by wanting to stay in), Wright said. But that was an awesome home runs. Wright (16-5) struck out eight and walked one to tie Houstons Justin Verlander and the Los Angeles Dodgers Tony Gonsolin for most victories in the majors. Wright, the fifth player taken in the 2017 draft, entered 2022 with a career record of 2-8 with a 6.76 ERA. Those early struggles appear to be fully behind him, one of the reasons he didnt protest too much when Snitker didnt let him go out for the eighth. It’s bigger than just one game, Wright said. So I want to stay fresh and ultimately it was definitely the right decision to come out and come out feeling good. Atlanta has won 14 of 16 overall to keep pressure on the NL East-leading New York Mets. I feel like we can beat you in different ways, shortstop Dansby Swanson said. Like we can pitch and play defense and obviously we can swing it a little bit too. The Braves did a little bit of everything while completing a season sweep of Pittsburgh. Olson turned on a pitch from Pittsburgh reliever Cam Vieaux and sent it well over the right-field stands in the eighth for his fifth career grand slam. The ball landed 420 feet from home plate before finding its way to the river on the bounce, the 66th time in the history of PNC Park that a home run has ended with a splash. William Contreras added his 17th home run for Atlanta, bashing a pitch from Mitch Keller (4-10) into the bushes beyond the center-field wall in the second inning to give the Braves an early lead. Swanson had a two-out, bases-clearing double during Atlanta’s five-run fourth, an inning that was extended by an error by Pittsburgh first baseman Josh Van Meter. CRUZ MISSILE The lone highlight for the Pirates came from rookie Oneil Cruz, who ripped the hardest-hit ball since Major League Baseball began measuring exit velocity in 2015. The ball left Cruzs bat at 122.4 mph and slammed into the 21-foot-high Clemente Wall in right field with two outs in the third. He was held to a single. It’s probably good that ball hit a wall because it might have hurt somebody if it had been up a little higher, Snitker said of Cruzs hit, which broke the previous mark of 122.2 mph set twice by New York Yankees slugger Giancarlo Stanton. Pittsburghs Kevin Newman hit his first home run of the season in the ninth. Keller, who was given a couple of extra days of rest after getting knocked around in his previous start against Boston, wasnt particularly sharp. He allowed seven runs, two earned, on seven hits in 3 2/3 innings with two walks and five strikeouts.\"\n"
   ]
  },
  {
   "cell_type": "code",
   "execution_count": 21,
   "id": "290920bd",
   "metadata": {},
   "outputs": [
    {
     "data": {
      "text/plain": [
       "['The 26-year-old allowed two hits over seven efficient innings and the Braves completed a three-game sweep of Pittsburgh by drilling the sloppy Pirates 14-2 on Wednesday.Wright needed just 73 pitches to record 21 outs but missed a chance to pitch into the eighth when his teammates erupted for seven runs in the top of the inning, highlighted by Matt Olsons grand slam that bounced into the Allegheny River.I’ve never finished a game in the big leagues, so I would have loved to have gotten that, Wright said.',\n",
       " 'But runs are cool too, especially grand slams.Wright and Atlanta manager Brian Snitker chatted briefly about letting him continue.',\n",
       " 'Once Olsons 27th home run landed and the Pirates signaled a pitching change that made an already long inning even longer, Wright knew his day was over.',\n",
       " 'I was being a little selfish (by wanting to stay in), Wright said.']"
      ]
     },
     "execution_count": 21,
     "metadata": {},
     "output_type": "execute_result"
    }
   ],
   "source": [
    "sentences = nltk.sent_tokenize(paragraph)\n",
    "sentences[0:4]"
   ]
  },
  {
   "cell_type": "code",
   "execution_count": 22,
   "id": "5e47686f",
   "metadata": {},
   "outputs": [
    {
     "data": {
      "text/plain": [
       "['The', '26-year-old', 'allowed', 'two', 'hits']"
      ]
     },
     "execution_count": 22,
     "metadata": {},
     "output_type": "execute_result"
    }
   ],
   "source": [
    "words = nltk.word_tokenize(paragraph)\n",
    "words[0:5]"
   ]
  },
  {
   "cell_type": "code",
   "execution_count": 23,
   "id": "171c32d0",
   "metadata": {},
   "outputs": [],
   "source": [
    "from nltk.stem import PorterStemmer\n",
    "from nltk.corpus import stopwords"
   ]
  },
  {
   "cell_type": "code",
   "execution_count": 24,
   "id": "7b4353b1",
   "metadata": {},
   "outputs": [],
   "source": [
    "stemmer = PorterStemmer()"
   ]
  },
  {
   "cell_type": "code",
   "execution_count": 25,
   "id": "a63fcdcf",
   "metadata": {},
   "outputs": [],
   "source": [
    "for i in range(len(sentences)):\n",
    "    words = nltk.word_tokenize(sentences[i])\n",
    "    words = [stemmer.stem(word) for word in words if word not in set(stopwords.words('english'))]\n",
    "    sentences[i] = ' '.join(words)"
   ]
  },
  {
   "cell_type": "code",
   "execution_count": 26,
   "id": "89cb4d2c",
   "metadata": {},
   "outputs": [
    {
     "data": {
      "text/plain": [
       "['but run cool , especi grand slams.wright atlanta manag brian snitker chat briefli let continu .',\n",
       " 'onc olson 27th home run land pirat signal pitch chang made alreadi long inning even longer , wright knew day .',\n",
       " 'i littl selfish ( want stay ) , wright said .',\n",
       " 'but awesom home run .']"
      ]
     },
     "execution_count": 26,
     "metadata": {},
     "output_type": "execute_result"
    }
   ],
   "source": [
    "sentences[1:5]"
   ]
  },
  {
   "cell_type": "code",
   "execution_count": 27,
   "id": "763a6106",
   "metadata": {},
   "outputs": [],
   "source": [
    "from nltk.stem import WordNetLemmatizer\n",
    "from nltk.corpus import stopwords"
   ]
  },
  {
   "cell_type": "code",
   "execution_count": 28,
   "id": "58043515",
   "metadata": {},
   "outputs": [],
   "source": [
    "sentences = nltk.sent_tokenize(paragraph)\n",
    "sentences\n",
    "lemmatizer=WordNetLemmatizer()"
   ]
  },
  {
   "cell_type": "code",
   "execution_count": 29,
   "id": "2d794e15",
   "metadata": {},
   "outputs": [],
   "source": [
    "for i in range(len(sentences)):\n",
    "    words = nltk.word_tokenize(sentences[i])\n",
    "    words = [lemmatizer.lemmatize(word) for word in words if word not in set(stopwords.words('english'))]\n",
    "    sentences[i] = ' '.join(words)"
   ]
  },
  {
   "cell_type": "code",
   "execution_count": 30,
   "id": "7615bd82",
   "metadata": {},
   "outputs": [
    {
     "data": {
      "text/plain": [
       "['But run cool , especially grand slams.Wright Atlanta manager Brian Snitker chatted briefly letting continue .',\n",
       " 'Once Olsons 27th home run landed Pirates signaled pitching change made already long inning even longer , Wright knew day .',\n",
       " 'I little selfish ( wanting stay ) , Wright said .',\n",
       " 'But awesome home run .']"
      ]
     },
     "execution_count": 30,
     "metadata": {},
     "output_type": "execute_result"
    }
   ],
   "source": [
    "sentences[1:5]"
   ]
  },
  {
   "cell_type": "code",
   "execution_count": 1,
   "id": "be038db0",
   "metadata": {},
   "outputs": [
    {
     "name": "stdout",
     "output_type": "stream",
     "text": [
      "['AI', 'introduced', 'year', '1956', 'gained', 'popularity', 'recently', '.']\n"
     ]
    }
   ],
   "source": [
    "from nltk.tokenize import sent_tokenize, word_tokenize\n",
    "from nltk.corpus import stopwords\n",
    "\n",
    "data = \"AI was introduced in the year 1956 but it gained popularity recently.\"\n",
    "stopWords = set(stopwords.words('english'))\n",
    "words = word_tokenize(data)\n",
    "wordsFiltered = []\n",
    "\n",
    "for w in words:\n",
    "    if w not in stopWords:\n",
    "        wordsFiltered.append(w)\n",
    "        \n",
    "print(wordsFiltered)"
   ]
  },
  {
   "cell_type": "code",
   "execution_count": 2,
   "id": "5427c749",
   "metadata": {},
   "outputs": [
    {
     "name": "stdout",
     "output_type": "stream",
     "text": [
      "179\n",
      "{'here', 'been', \"couldn't\", \"hasn't\", 'about', 'had', 'yourselves', 'being', 'd', \"you'd\", 'are', 'they', 'theirs', 'our', 'for', 'can', 're', 'mustn', 'doing', 'him', 'same', 'shouldn', 'wasn', 'if', 'yours', 'a', 'up', 'through', 'will', 'into', 'is', 'doesn', 'nor', 'further', \"mustn't\", 'these', 'why', 'does', 'couldn', 'again', 've', 'before', 'them', 'mightn', 'have', 'weren', 'between', 'who', 'whom', 'now', \"doesn't\", 'o', 'other', \"she's\", 'hadn', 'but', \"wasn't\", 'so', 'ain', 'y', 'what', 'having', 'an', \"it's\", 'very', 'he', 'some', 'wouldn', \"won't\", 'm', 'no', \"you're\", 'it', \"aren't\", 'herself', 'myself', 'when', 'won', 'their', 'how', 'then', 'itself', 'or', 'those', 'shan', \"isn't\", 'themselves', 'which', 'above', 'off', 'do', 'under', 'each', 'we', 'all', 'both', 't', 'as', 'your', 'has', 'hasn', 'don', \"mightn't\", 'did', 'my', 'and', 'during', 'own', 'on', 'more', 'should', 'ourselves', 'hers', \"wouldn't\", 'from', 'be', 'ma', 'didn', 'few', \"shouldn't\", 'below', \"you've\", 'yourself', 'with', 'were', 'just', 'there', 's', 'in', 'ours', 'isn', \"you'll\", 'out', 'll', \"shan't\", 'she', 'where', 'his', \"don't\", 'aren', 'am', 'not', 'you', \"didn't\", 'this', 'while', 'down', 'that', 'her', 'any', 'because', 'needn', 'until', 'such', \"haven't\", 'after', 'haven', 'i', 'over', 'once', 'me', \"weren't\", 'than', 'most', 'to', \"needn't\", 'its', \"that'll\", 'by', \"hadn't\", 'was', 'too', 'only', 'the', 'of', 'at', 'himself', \"should've\", 'against'}\n"
     ]
    }
   ],
   "source": [
    "print(len(stopWords))\n",
    "print(stopWords)"
   ]
  },
  {
   "cell_type": "code",
   "execution_count": null,
   "id": "250749dd",
   "metadata": {},
   "outputs": [],
   "source": []
  }
 ],
 "metadata": {
  "kernelspec": {
   "display_name": "Python 3 (ipykernel)",
   "language": "python",
   "name": "python3"
  },
  "language_info": {
   "codemirror_mode": {
    "name": "ipython",
    "version": 3
   },
   "file_extension": ".py",
   "mimetype": "text/x-python",
   "name": "python",
   "nbconvert_exporter": "python",
   "pygments_lexer": "ipython3",
   "version": "3.10.0"
  }
 },
 "nbformat": 4,
 "nbformat_minor": 5
}
