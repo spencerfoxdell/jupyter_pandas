{
 "cells": [
  {
   "cell_type": "code",
   "execution_count": 1,
   "id": "dfdfb310",
   "metadata": {},
   "outputs": [],
   "source": [
    "name = \"Spencer\""
   ]
  },
  {
   "cell_type": "code",
   "execution_count": 2,
   "id": "de928868",
   "metadata": {},
   "outputs": [
    {
     "name": "stdout",
     "output_type": "stream",
     "text": [
      "Hello! My name is Spencer and this is my Jupyter Notebook!\n"
     ]
    }
   ],
   "source": [
    "print(f\"Hello! My name is {name} and this is my Jupyter Notebook!\")"
   ]
  },
  {
   "cell_type": "code",
   "execution_count": null,
   "id": "97847b45",
   "metadata": {},
   "outputs": [],
   "source": []
  }
 ],
 "metadata": {
  "kernelspec": {
   "display_name": "Python 3 (ipykernel)",
   "language": "python",
   "name": "python3"
  },
  "language_info": {
   "codemirror_mode": {
    "name": "ipython",
    "version": 3
   },
   "file_extension": ".py",
   "mimetype": "text/x-python",
   "name": "python",
   "nbconvert_exporter": "python",
   "pygments_lexer": "ipython3",
   "version": "3.10.0"
  }
 },
 "nbformat": 4,
 "nbformat_minor": 5
}
